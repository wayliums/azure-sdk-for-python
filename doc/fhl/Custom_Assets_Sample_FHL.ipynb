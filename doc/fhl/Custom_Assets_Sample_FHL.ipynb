{
 "cells": [
  {
   "cell_type": "markdown",
   "id": "83be089f-2f50-45c7-b03c-f86dc58840b0",
   "metadata": {},
   "source": [
    "# Sample notebook for custom assets"
   ]
  },
  {
   "cell_type": "code",
   "execution_count": 1,
   "id": "2091df36-8194-4927-8908-c0462e2e32fb",
   "metadata": {},
   "outputs": [
    {
     "name": "stdout",
     "output_type": "stream",
     "text": [
      "MLClient(credential=<azure.identity._credentials.default.DefaultAzureCredential object at 0x00000156B8D04160>,\n",
      "         subscription_id=5f08d643-1910-4a38-a7c7-84a39d4f42e0,\n",
      "         resource_group_name=junqiint-rg,\n",
      "         workspace_name=None)\n"
     ]
    }
   ],
   "source": [
    "# Import required libraries\n",
    "from azure.identity import DefaultAzureCredential, InteractiveBrowserCredential\n",
    "from azure.ai.ml import MLClient\n",
    "from azure.ai.ml import load_asset\n",
    "import time, os\n",
    "\n",
    "try:\n",
    "    credential = DefaultAzureCredential()\n",
    "    # Check if given credential can get token successfully.\n",
    "    credential.get_token(\"https://management.azure.com/.default\")\n",
    "except Exception as ex:\n",
    "    # Fall back to InteractiveBrowserCredential in case DefaultAzureCredential not work\n",
    "    credential = InteractiveBrowserCredential()\n",
    "\n",
    "ml_client_registry = MLClient(credential=credential, registry_name=\"UnsecureTest-fhl-genericasset\")\n",
    "\n",
    "print(ml_client_registry)"
   ]
  },
  {
   "cell_type": "markdown",
   "id": "1fec3135-b9ba-4c53-9143-148096f42b8d",
   "metadata": {},
   "source": [
    "### Custom prompt asset"
   ]
  },
  {
   "cell_type": "code",
   "execution_count": 2,
   "id": "63548221-c041-4afb-8c43-63afb334ae0a",
   "metadata": {},
   "outputs": [
    {
     "name": "stdout",
     "output_type": "stream",
     "text": [
      "name: custom_prompt_asset\n",
      "version: 1\n",
      "description: My custom prompt asset\n",
      "type: prompt\n",
      "inputs:\n",
      "  var1:\n",
      "    type: string\n",
      "  var2:\n",
      "    type: string\n",
      "template:\n",
      "  type: code\n",
      "  src: src\n",
      "\n"
     ]
    }
   ],
   "source": [
    "# Show the yaml file\n",
    "with open('custom_prompt.yml') as f:\n",
    "    print(f.read())"
   ]
  },
  {
   "cell_type": "code",
   "execution_count": 3,
   "id": "aa9d7e5c-f252-4436-b50d-2ed1a80c82fb",
   "metadata": {},
   "outputs": [
    {
     "name": "stdout",
     "output_type": "stream",
     "text": [
      "Uploading code from: src\n"
     ]
    },
    {
     "name": "stderr",
     "output_type": "stream",
     "text": [
      "Subtype value SAS has no mapping, use base class DataReferenceCredentialDto.\n",
      "\u001b[32mUploading src (0.0 MBs): 100%|##########################| 21/21 [00:00<00:00, 469.53it/s]\u001b[0m\n",
      "\u001b[39m\n",
      "\n"
     ]
    },
    {
     "name": "stdout",
     "output_type": "stream",
     "text": [
      "created code asset: azureml://registries/UnsecureTest-fhl-genericasset/codes/77f544ab-e10e-49de-873d-6814fdf7e686/versions/1\n",
      "creating asset:\n",
      "b'{\"RegistryName\": \"UnsecureTest-fhl-genericasset\", \"Asset\": {\"Type\": \"prompt\", \"TypeName\": \"prompt\", \"Name\": \"custom_prompt_asset\", \"Version\": \"1689983378\", \"Description\": \"My custom prompt asset\", \"Implements\": [], \"AssetSpec\": {\"Inputs\": {\"var1\": {\"type\": \"string\"}, \"var2\": {\"type\": \"string\"}}, \"Template\": \"azureml://registries/UnsecureTest-fhl-genericasset/codes/77f544ab-e10e-49de-873d-6814fdf7e686/versions/1\"}}}'\n",
      "\n",
      "response code: 202\n"
     ]
    },
    {
     "data": {
      "text/plain": [
       "CustomAsset({'intellectual_property': None, 'inputs': {'var1': OrderedDict([('type', 'string')]), 'var2': OrderedDict([('type', 'string')])}, 'template': {'type': 'code', 'src': 'src'}, 'code': None, 'environment': None, 'type_name': None, 'is_anonymous': False, 'auto_increment_version': False, 'auto_delete_setting': None, 'name': 'custom_prompt_asset', 'description': 'My custom prompt asset', 'tags': {}, 'properties': {}, 'print_as_yaml': True, 'id': None, 'Resource__source_path': None, 'base_path': WindowsPath('.'), 'creation_context': None, 'serialize': <msrest.serialization.Serializer object at 0x00000156BF027910>, 'version': '1689983378', 'latest_version': None, 'path': None, 'datastore': None, 'type': 'prompt', 'stage': None, 'implements': None})"
      ]
     },
     "execution_count": 3,
     "metadata": {},
     "output_type": "execute_result"
    }
   ],
   "source": [
    "# Load the asset from the yaml file\n",
    "asset = load_asset('custom_prompt.yml')\n",
    "\n",
    "# Set a unique version\n",
    "asset.version = str(int(time.time()))\n",
    "\n",
    "# Create the asset in registry\n",
    "ml_client_registry.assets.create_or_update(asset)"
   ]
  },
  {
   "cell_type": "code",
   "execution_count": 4,
   "id": "fa53a7d1-578e-4a70-9341-e7139b7115bb",
   "metadata": {},
   "outputs": [
    {
     "name": "stdout",
     "output_type": "stream",
     "text": [
      "response code: 200\n",
      "description: My custom prompt asset\n",
      "implements: []\n",
      "inputs:\n",
      "  var1:\n",
      "    type: string\n",
      "  var2:\n",
      "    type: string\n",
      "name: custom_prompt_asset\n",
      "properties: {}\n",
      "tags: {}\n",
      "template: azureml://registries/UnsecureTest-fhl-genericasset/codes/77f544ab-e10e-49de-873d-6814fdf7e686/versions/1\n",
      "type: prompt\n",
      "type_name: prompt\n",
      "version: '1689983378'\n",
      "\n"
     ]
    }
   ],
   "source": [
    "# Fetch the asset from backend\n",
    "fetched_asset = ml_client_registry.assets.get(asset.name, asset.version)\n",
    "print(fetched_asset)"
   ]
  },
  {
   "cell_type": "markdown",
   "id": "b6424ea7-32aa-4705-bfe9-34da9ced747d",
   "metadata": {},
   "source": [
    "### Custom langchain app"
   ]
  },
  {
   "cell_type": "code",
   "execution_count": 5,
   "id": "bb60f936-2ca6-438c-bfff-fce2a85e1735",
   "metadata": {},
   "outputs": [
    {
     "name": "stdout",
     "output_type": "stream",
     "text": [
      "name: custom_langchain_app\n",
      "version: 1\n",
      "description: Sample custom langchain app\n",
      "type: custom\n",
      "type_name: langchain_app\n",
      "implements:\n",
      "  - IDeployable\n",
      "code:\n",
      "  type: code\n",
      "  src: src\n",
      "environment: azureml://registries/testfeed/environments/SKLearnEnv/versions/1689876527\n",
      "\n"
     ]
    }
   ],
   "source": [
    "# Show the yaml file\n",
    "with open('custom_app.yml') as f:\n",
    "    print(f.read())"
   ]
  },
  {
   "cell_type": "code",
   "execution_count": 6,
   "id": "a195e57f-2f20-4f70-b84f-c58bd2ecf783",
   "metadata": {},
   "outputs": [
    {
     "name": "stdout",
     "output_type": "stream",
     "text": [
      "Uploading code from: src\n"
     ]
    },
    {
     "name": "stderr",
     "output_type": "stream",
     "text": [
      "Subtype value SAS has no mapping, use base class DataReferenceCredentialDto.\n",
      "\u001b[32mUploading src (0.0 MBs): 100%|##########################| 21/21 [00:00<00:00, 439.50it/s]\u001b[0m\n",
      "\u001b[39m\n",
      "\n"
     ]
    },
    {
     "name": "stdout",
     "output_type": "stream",
     "text": [
      "created code asset: azureml://registries/UnsecureTest-fhl-genericasset/codes/09c65e3a-d497-4c50-8230-26a27cd124b2/versions/1\n",
      "creating asset:\n",
      "b'{\"RegistryName\": \"UnsecureTest-fhl-genericasset\", \"Asset\": {\"Type\": \"custom\", \"TypeName\": \"langchain_app\", \"Name\": \"custom_langchain_app\", \"Version\": \"1689983428\", \"Description\": \"Sample custom langchain app\", \"Implements\": [\"IDeployable\"], \"AssetSpec\": {\"Code\": \"azureml://registries/UnsecureTest-fhl-genericasset/codes/09c65e3a-d497-4c50-8230-26a27cd124b2/versions/1\", \"Environment\": \"azureml://registries/testfeed/environments/SKLearnEnv/versions/1689876527\"}}}'\n",
      "\n",
      "response code: 202\n"
     ]
    },
    {
     "data": {
      "text/plain": [
       "CustomAsset({'intellectual_property': None, 'inputs': None, 'template': None, 'code': {'type': 'code', 'src': 'src'}, 'environment': 'azureml://registries/testfeed/environments/SKLearnEnv/versions/1689876527', 'type_name': 'langchain_app', 'is_anonymous': False, 'auto_increment_version': False, 'auto_delete_setting': None, 'name': 'custom_langchain_app', 'description': 'Sample custom langchain app', 'tags': {}, 'properties': {}, 'print_as_yaml': True, 'id': None, 'Resource__source_path': None, 'base_path': WindowsPath('.'), 'creation_context': None, 'serialize': <msrest.serialization.Serializer object at 0x00000156BF06DD50>, 'version': '1689983428', 'latest_version': None, 'path': None, 'datastore': None, 'type': 'custom', 'stage': None, 'implements': ['IDeployable']})"
      ]
     },
     "execution_count": 6,
     "metadata": {},
     "output_type": "execute_result"
    }
   ],
   "source": [
    "# Load the asset from the yaml file\n",
    "asset = load_asset('custom_app.yml')\n",
    "\n",
    "# Set a unique version\n",
    "asset.version = str(int(time.time()))\n",
    "\n",
    "# Create the asset in registry\n",
    "ml_client_registry.assets.create_or_update(asset)"
   ]
  },
  {
   "cell_type": "code",
   "execution_count": 7,
   "id": "74e47a14-3bab-4b9f-b3dd-22bf3825d37a",
   "metadata": {},
   "outputs": [
    {
     "name": "stdout",
     "output_type": "stream",
     "text": [
      "response code: 200\n",
      "code: azureml://registries/UnsecureTest-fhl-genericasset/codes/09c65e3a-d497-4c50-8230-26a27cd124b2/versions/1\n",
      "description: Sample custom langchain app\n",
      "environment: azureml://registries/testfeed/environments/SKLearnEnv/versions/1689876527\n",
      "implements:\n",
      "- IDeployable\n",
      "name: custom_langchain_app\n",
      "properties: {}\n",
      "tags: {}\n",
      "type: custom\n",
      "type_name: langchain_app\n",
      "version: '1689983428'\n",
      "\n"
     ]
    }
   ],
   "source": [
    "# Fetch the asset from backend\n",
    "fetched_asset = ml_client_registry.assets.get(asset.name, asset.version)\n",
    "print(fetched_asset)"
   ]
  },
  {
   "cell_type": "code",
   "execution_count": null,
   "id": "820b56e2-3c3d-4bb0-8217-8767b0387a51",
   "metadata": {},
   "outputs": [],
   "source": []
  }
 ],
 "metadata": {
  "kernelspec": {
   "display_name": "Python 3 (ipykernel)",
   "language": "python",
   "name": "python3"
  },
  "language_info": {
   "codemirror_mode": {
    "name": "ipython",
    "version": 3
   },
   "file_extension": ".py",
   "mimetype": "text/x-python",
   "name": "python",
   "nbconvert_exporter": "python",
   "pygments_lexer": "ipython3",
   "version": "3.10.11"
  }
 },
 "nbformat": 4,
 "nbformat_minor": 5
}
